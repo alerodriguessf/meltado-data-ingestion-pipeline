{
 "cells": [
  {
   "cell_type": "code",
   "execution_count": 0,
   "metadata": {
    "application/vnd.databricks.v1+cell": {
     "cellMetadata": {
      "byteLimit": 2048000,
      "rowLimit": 10000
     },
     "inputWidgets": {},
     "nuid": "68efbb9c-c5d3-43c2-841b-1dbfed7a714b",
     "showTitle": false,
     "tableResultSettingsMap": {},
     "title": ""
    }
   },
   "outputs": [],
   "source": [
    "\n",
    "# \uD83D\uDCE5 Ingestão de arquivos Parquet da API para tabelas Delta (camada Bronze)\n",
    "\n",
    "# COMMAND ----------\n",
    "# \uD83E\uDDF1 BLOCO 1 - Imports e Configurações Iniciais\n",
    "import re\n",
    "from pyspark.sql import SparkSession\n",
    "\n",
    "catalog = \"ted_dev\"\n",
    "schema = \"dev_alexandre_filho\"\n",
    "caminho_api = \"/Volumes/ted_dev/dev_alexandre_filho/raw/api/\"\n",
    "\n",
    "spark = SparkSession.builder.getOrCreate()\n",
    "\n"
   ]
  },
  {
   "cell_type": "code",
   "execution_count": 0,
   "metadata": {
    "application/vnd.databricks.v1+cell": {
     "cellMetadata": {
      "byteLimit": 2048000,
      "rowLimit": 10000
     },
     "inputWidgets": {},
     "nuid": "82ad7083-70cd-4433-b14b-5097d39fdf26",
     "showTitle": false,
     "tableResultSettingsMap": {},
     "title": ""
    }
   },
   "outputs": [],
   "source": [
    "# COMMAND ----------\n",
    "# \uD83E\uDDF1 BLOCO 2 - Função para normalizar nomes de tabela\n",
    "\n",
    "def normalizar_nome_tabela(caminho):\n",
    "    nome = caminho.rstrip(\"/\").split(\"/\")[-1]\n",
    "    nome = re.sub(r\"[^a-zA-Z0-9_]\", \"_\", nome).lower()\n",
    "    return f\"raw_api_{nome}_db\"\n"
   ]
  },
  {
   "cell_type": "code",
   "execution_count": 0,
   "metadata": {
    "application/vnd.databricks.v1+cell": {
     "cellMetadata": {
      "byteLimit": 2048000,
      "rowLimit": 10000
     },
     "inputWidgets": {},
     "nuid": "db840dfc-451b-488b-aa48-f51db24f0a78",
     "showTitle": false,
     "tableResultSettingsMap": {},
     "title": ""
    }
   },
   "outputs": [],
   "source": [
    "# COMMAND ----------\n",
    "# \uD83E\uDDF1 BLOCO 3 - Função para criar tabela Delta a partir de uma subpasta\n",
    "\n",
    "def criar_tabela_gerenciada(caminho_base):\n",
    "    nome_tabela = normalizar_nome_tabela(caminho_base)\n",
    "    if not nome_tabela:\n",
    "        print(f\"❌ Nome inválido para: {caminho_base}\")\n",
    "        return\n",
    "\n",
    "    # Buscar arquivos .parquet dentro da subpasta (recursivamente)\n",
    "    arquivos_parquet = dbutils.fs.ls(caminho_base)\n",
    "    arquivos_validos = [f.path for f in arquivos_parquet if f.path.endswith(\".parquet\") or f.path.endswith(\".gz.parquet\")]\n",
    "\n",
    "    # Se não encontrar diretamente, entra recursivamente\n",
    "    if not arquivos_validos:\n",
    "        for subdir in arquivos_parquet:\n",
    "            if subdir.isDir():\n",
    "                sub_arquivos = dbutils.fs.ls(subdir.path)\n",
    "                arquivos_validos += [f.path for f in sub_arquivos if f.path.endswith(\".parquet\") or f.path.endswith(\".gz.parquet\")]\n",
    "\n",
    "    if not arquivos_validos:\n",
    "        print(f\"⚠️ Nenhum arquivo Parquet encontrado em: {caminho_base}\")\n",
    "        return\n",
    "\n",
    "    print(f\"\uD83D\uDCE6 Lendo arquivos: {arquivos_validos[:1]} ... (total: {len(arquivos_validos)})\")\n",
    "\n",
    "    # Lê todos os arquivos juntos\n",
    "    df = spark.read.format(\"parquet\").load(arquivos_validos)\n",
    "\n",
    "    # Escreve como tabela Delta gerenciada\n",
    "    df.write.format(\"delta\")\\\n",
    "      .mode(\"overwrite\")\\\n",
    "      .saveAsTable(f\"{catalog}.{schema}.{nome_tabela}\")\n",
    "\n",
    "    print(f\"✅ Tabela {catalog}.{schema}.{nome_tabela} criada com sucesso!\")\n",
    "\n",
    "# COMMAND ----------"
   ]
  },
  {
   "cell_type": "code",
   "execution_count": 0,
   "metadata": {
    "application/vnd.databricks.v1+cell": {
     "cellMetadata": {
      "byteLimit": 2048000,
      "rowLimit": 10000
     },
     "inputWidgets": {},
     "nuid": "1399875f-4a74-4b47-9476-23f96db7ef08",
     "showTitle": false,
     "tableResultSettingsMap": {},
     "title": ""
    }
   },
   "outputs": [
    {
     "output_type": "stream",
     "name": "stdout",
     "output_type": "stream",
     "text": [
      "\uD83D\uDCE6 Lendo arquivos: ['dbfs:/Volumes/ted_dev/dev_alexandre_filho/raw/api/PurchaseOrderDetail/PurchaseOrderDetail-20250614_181331-0-0.gz.parquet'] ... (total: 1)\n✅ Tabela ted_dev.dev_alexandre_filho.raw_api_purchaseorderdetail_db criada com sucesso!\n\uD83D\uDCE6 Lendo arquivos: ['dbfs:/Volumes/ted_dev/dev_alexandre_filho/raw/api/PurchaseOrderHeader/PurchaseOrderHeader-20250614_181331-0-0.gz.parquet'] ... (total: 1)\n✅ Tabela ted_dev.dev_alexandre_filho.raw_api_purchaseorderheader_db criada com sucesso!\n\uD83D\uDCE6 Lendo arquivos: ['dbfs:/Volumes/ted_dev/dev_alexandre_filho/raw/api/SalesOrderDetail/SalesOrderDetail-20250614_181331-0-0.gz.parquet'] ... (total: 1)\n✅ Tabela ted_dev.dev_alexandre_filho.raw_api_salesorderdetail_db criada com sucesso!\n\uD83D\uDCE6 Lendo arquivos: ['dbfs:/Volumes/ted_dev/dev_alexandre_filho/raw/api/SalesOrderHeader/SalesOrderHeader-20250614_181331-0-0.gz.parquet'] ... (total: 1)\n✅ Tabela ted_dev.dev_alexandre_filho.raw_api_salesorderheader_db criada com sucesso!\n\uD83C\uDF89 Processo concluído!\n"
     ]
    }
   ],
   "source": [
    "# \uD83E\uDDF1 BLOCO 4 - Loop para processar todas as subpastas\n",
    "subpastas = dbutils.fs.ls(caminho_api)\n",
    "\n",
    "for pasta in subpastas:\n",
    "    if pasta.isDir():\n",
    "        criar_tabela_gerenciada(pasta.path)\n",
    "\n",
    "print(\"\uD83C\uDF89 Processo concluído!\")"
   ]
  }
 ],
 "metadata": {
  "application/vnd.databricks.v1+notebook": {
   "computePreferences": null,
   "dashboards": [],
   "environmentMetadata": {
    "base_environment": "",
    "environment_version": "2"
   },
   "inputWidgetPreferences": null,
   "language": "python",
   "notebookMetadata": {
    "pythonIndentUnit": 4
   },
   "notebookName": "delta conversion_api_checkpoint2_alexandrersf",
   "widgets": {}
  },
  "language_info": {
   "name": "python"
  }
 },
 "nbformat": 4,
 "nbformat_minor": 0
}